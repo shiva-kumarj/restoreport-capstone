{
 "cells": [
  {
   "cell_type": "code",
   "execution_count": 1,
   "metadata": {},
   "outputs": [],
   "source": [
    "import pandas as pd"
   ]
  },
  {
   "cell_type": "markdown",
   "metadata": {},
   "source": [
    "# Reviews"
   ]
  },
  {
   "cell_type": "code",
   "execution_count": 34,
   "metadata": {},
   "outputs": [],
   "source": [
    "reviews = pd.read_csv(r\"D:\\My-Projects\\stonecap\\data\\processed\\reviews\\labelled_dataset\\combined_reviews\\combined_reviews.csv\")"
   ]
  },
  {
   "cell_type": "code",
   "execution_count": 35,
   "metadata": {},
   "outputs": [],
   "source": [
    "reviews = reviews.drop(['Unnamed: 0.2', 'Unnamed: 0.1', 'Unnamed: 0'], axis=1)\n"
   ]
  },
  {
   "cell_type": "code",
   "execution_count": 38,
   "metadata": {},
   "outputs": [
    {
     "name": "stdout",
     "output_type": "stream",
     "text": [
      "<class 'pandas.core.frame.DataFrame'>\n",
      "RangeIndex: 3715625 entries, 0 to 3715624\n",
      "Data columns (total 7 columns):\n",
      " #   Column           Dtype \n",
      "---  ------           ----- \n",
      " 0   business_id      object\n",
      " 1   stars            int64 \n",
      " 2   useful           int64 \n",
      " 3   text             object\n",
      " 4   date             object\n",
      " 5   sentiment        object\n",
      " 6   predicted_label  object\n",
      "dtypes: int64(2), object(5)\n",
      "memory usage: 198.4+ MB\n"
     ]
    }
   ],
   "source": [
    "reviews.info()"
   ]
  },
  {
   "cell_type": "code",
   "execution_count": 39,
   "metadata": {},
   "outputs": [],
   "source": [
    "# fix the minimum 'useful' rating to 0\n",
    "reviews.loc[reviews['useful'] == reviews['useful'].min(), 'useful'] = 0"
   ]
  },
  {
   "cell_type": "code",
   "execution_count": 41,
   "metadata": {},
   "outputs": [],
   "source": [
    "reviews = reviews.rename(columns={'date': 'datetime'})\n",
    "reviews['datetime'] = pd.to_datetime(reviews['datetime'])"
   ]
  },
  {
   "cell_type": "code",
   "execution_count": 9,
   "metadata": {},
   "outputs": [],
   "source": [
    "# Saving review text information into another dataset.\n",
    "review_text_data = reviews[['business_id', 'predicted_label', 'text', 'sentiment']].copy()\n",
    "\n",
    "review_text_data.to_csv(r\"D:\\My-Projects\\stonecap\\data\\processed\\reviews\\labelled_dataset\\combined_reviews\\reviews_textual_data.csv\", index=False)"
   ]
  },
  {
   "cell_type": "code",
   "execution_count": 31,
   "metadata": {},
   "outputs": [],
   "source": [
    "reviews['year'] = reviews['datetime'].dt.year\n",
    "reviews_per_year = reviews.groupby(['business_id', 'year']).count().reset_index()[['business_id', 'year', 'stars']]\n",
    "reviews_per_year = reviews_per_year.rename(columns={'stars': 'review_count'})\n",
    "reviews_per_year.to_csv(r\"D:\\My-Projects\\stonecap\\data\\processed\\reviews\\labelled_dataset\\combined_reviews\\reviews_per_year_per_business.csv\", index=False)"
   ]
  },
  {
   "cell_type": "code",
   "execution_count": null,
   "metadata": {},
   "outputs": [],
   "source": [
    "review_count_pivot_table = reviews.pivot_table(values='stars', index='business_id', aggfunc={'stars': ['mean', 'count']}).reset_index().sort_values('count')\n",
    "review_count_pivot_table.to_csv(r\"D:\\My-Projects\\stonecap\\data\\processed\\business\\reviews_star_pivot.csv\")"
   ]
  },
  {
   "cell_type": "code",
   "execution_count": 10,
   "metadata": {},
   "outputs": [],
   "source": [
    "reviews = reviews.drop('text', axis=1)\n",
    "\n",
    "reviews.to_csv(r\"D:\\My-Projects\\stonecap\\data\\processed\\reviews\\labelled_dataset\\combined_reviews\\clean_combined_reviews.csv\", index=False)"
   ]
  },
  {
   "cell_type": "markdown",
   "metadata": {},
   "source": [
    "# Business"
   ]
  },
  {
   "cell_type": "code",
   "execution_count": 68,
   "metadata": {},
   "outputs": [],
   "source": [
    "business = pd.read_csv(r\"D:\\My-Projects\\stonecap\\data\\processed\\business\\business.csv\")\n",
    "business.rename(columns={'stars': 'avg_stars'}, inplace=True)\n",
    "business['country'] = 'US'"
   ]
  },
  {
   "cell_type": "code",
   "execution_count": 69,
   "metadata": {},
   "outputs": [
    {
     "name": "stdout",
     "output_type": "stream",
     "text": [
      "<class 'pandas.core.frame.DataFrame'>\n",
      "RangeIndex: 32855 entries, 0 to 32854\n",
      "Data columns (total 34 columns):\n",
      " #   Column                      Non-Null Count  Dtype  \n",
      "---  ------                      --------------  -----  \n",
      " 0   business_id                 32855 non-null  object \n",
      " 1   name                        32855 non-null  object \n",
      " 2   city                        32855 non-null  object \n",
      " 3   state                       32855 non-null  object \n",
      " 4   postal_code                 32855 non-null  int64  \n",
      " 5   latitude                    32855 non-null  float64\n",
      " 6   longitude                   32855 non-null  float64\n",
      " 7   avg_stars                   32855 non-null  float64\n",
      " 8   review_count                32855 non-null  int64  \n",
      " 9   Monday                      32855 non-null  object \n",
      " 10  Tuesday                     32855 non-null  object \n",
      " 11  Wednesday                   32855 non-null  object \n",
      " 12  Thursday                    32855 non-null  object \n",
      " 13  Friday                      32855 non-null  object \n",
      " 14  Saturday                    32855 non-null  object \n",
      " 15  Sunday                      32855 non-null  object \n",
      " 16  RestaurantsGoodForGroups    32855 non-null  bool   \n",
      " 17  Caters                      32855 non-null  bool   \n",
      " 18  RestaurantsPriceRange       32855 non-null  int64  \n",
      " 19  NoiseLevel                  32855 non-null  object \n",
      " 20  RestaurantsTakeOut          32855 non-null  bool   \n",
      " 21  RestaurantsDelivery         32855 non-null  bool   \n",
      " 22  OutdoorSeating              32855 non-null  bool   \n",
      " 23  BusinessAcceptsCreditCards  32855 non-null  bool   \n",
      " 24  BikeParking                 32855 non-null  bool   \n",
      " 25  RestaurantsReservations     32855 non-null  bool   \n",
      " 26  BusinessParking             32855 non-null  object \n",
      " 27  Alcohol                     32855 non-null  object \n",
      " 28  WiFi                        32855 non-null  object \n",
      " 29  HasTV                       32855 non-null  bool   \n",
      " 30  GoodForKids                 32855 non-null  bool   \n",
      " 31  WheelchairAccessible        32855 non-null  bool   \n",
      " 32  Ambience                    32855 non-null  object \n",
      " 33  country                     32855 non-null  object \n",
      "dtypes: bool(11), float64(3), int64(3), object(17)\n",
      "memory usage: 6.1+ MB\n"
     ]
    }
   ],
   "source": [
    "business.info()"
   ]
  },
  {
   "cell_type": "code",
   "execution_count": 70,
   "metadata": {},
   "outputs": [],
   "source": [
    "business.to_csv(r\"D:\\My-Projects\\stonecap\\data\\processed\\business\\clean_business.csv\")"
   ]
  },
  {
   "cell_type": "code",
   "execution_count": 71,
   "metadata": {},
   "outputs": [
    {
     "name": "stderr",
     "output_type": "stream",
     "text": [
      "C:\\Users\\blahb\\AppData\\Local\\Temp\\ipykernel_14244\\2331710794.py:25: FutureWarning: Downcasting object dtype arrays on .fillna, .ffill, .bfill is deprecated and will change in a future version. Call result.infer_objects(copy=False) instead. To opt-in to the future behavior, set `pd.set_option('future.no_silent_downcasting', True)`\n",
      "  business.loc[:, 'Alcohol'] = business['Alcohol'].fillna(False)\n"
     ]
    }
   ],
   "source": [
    "# Merging ambience labels together\n",
    "ambience_merge_dict = {\n",
    "    'absent': 'absent',\n",
    "    'casual': 'casual',\n",
    "    'classy': 'upscale',\n",
    "    'divey': 'casual',\n",
    "    'hipster': 'trendy',\n",
    "    'intimate': 'upscale',\n",
    "    'romantic': 'romantic',\n",
    "    'touristy': 'romantic',\n",
    "    'trendy': 'trendy',\n",
    "    'upscale': 'upscale'\n",
    "}\n",
    "\n",
    "business.loc[business['Ambience'] == '']\n",
    "business.loc[:, 'Ambience'] = business['Ambience'].map(ambience_merge_dict)\n",
    "\n",
    "# merging alcohol labels\n",
    "alcohol_merge_dict = {'none': False,\n",
    "                      'full_bar': True,\n",
    "                      'beer_and_wine': True}\n",
    "\n",
    "business.loc[:, 'Alcohol'] = business['Alcohol'].map(alcohol_merge_dict)\n",
    "\n",
    "business.loc[:, 'Alcohol'] = business['Alcohol'].fillna(False)\n",
    "\n",
    "\n",
    "business_attr_redundant = ['RestaurantsGoodForGroups', \n",
    "'Caters'                 ,\n",
    "'OutdoorSeating'         ,\n",
    "'BusinessAcceptsCreditCards',\n",
    "'BikeParking'               ,\n",
    "'RestaurantsReservations'   ,\n",
    "'BusinessParking'           ,\n",
    "'WiFi'                      ,\n",
    "'HasTV'                     ,\n",
    "'GoodForKids'               ,\n",
    "'WheelchairAccessible']  \n",
    "\n",
    "business = business.drop(business_attr_redundant, axis=1)"
   ]
  },
  {
   "cell_type": "code",
   "execution_count": 73,
   "metadata": {},
   "outputs": [],
   "source": [
    "business.to_csv(r\"D:\\My-Projects\\stonecap\\data\\processed\\business\\clean_business_2.csv\")"
   ]
  }
 ],
 "metadata": {
  "kernelspec": {
   "display_name": "streamlit_env",
   "language": "python",
   "name": "python3"
  },
  "language_info": {
   "codemirror_mode": {
    "name": "ipython",
    "version": 3
   },
   "file_extension": ".py",
   "mimetype": "text/x-python",
   "name": "python",
   "nbconvert_exporter": "python",
   "pygments_lexer": "ipython3",
   "version": "3.11.7"
  }
 },
 "nbformat": 4,
 "nbformat_minor": 2
}
