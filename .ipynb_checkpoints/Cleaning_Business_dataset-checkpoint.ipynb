{
 "cells": [
  {
   "cell_type": "code",
   "execution_count": 1,
   "id": "48808bca",
   "metadata": {
    "ExecuteTime": {
     "end_time": "2024-01-14T02:07:00.649403Z",
     "start_time": "2024-01-14T02:06:59.781927Z"
    }
   },
   "outputs": [],
   "source": [
    "import pandas as pd\n",
    "import numpy as np"
   ]
  },
  {
   "cell_type": "code",
   "execution_count": 2,
   "id": "03ff4062",
   "metadata": {
    "ExecuteTime": {
     "end_time": "2024-01-14T02:07:05.625709Z",
     "start_time": "2024-01-14T02:07:00.652964Z"
    }
   },
   "outputs": [],
   "source": [
    "df = pd.read_json(\"dataset/yelp_academic_dataset_business.json\", encoding='utf-8', lines=True)"
   ]
  },
  {
   "cell_type": "code",
   "execution_count": 3,
   "id": "1bc8cda6",
   "metadata": {
    "ExecuteTime": {
     "end_time": "2024-01-14T02:07:05.844480Z",
     "start_time": "2024-01-14T02:07:05.628709Z"
    }
   },
   "outputs": [
    {
     "data": {
      "text/plain": [
       "business_id         0\n",
       "name                0\n",
       "address             0\n",
       "city                0\n",
       "state               0\n",
       "postal_code         0\n",
       "latitude            0\n",
       "longitude           0\n",
       "stars               0\n",
       "review_count        0\n",
       "is_open             0\n",
       "attributes      13744\n",
       "categories        103\n",
       "hours           23223\n",
       "dtype: int64"
      ]
     },
     "execution_count": 3,
     "metadata": {},
     "output_type": "execute_result"
    }
   ],
   "source": [
    "df.isnull().sum()"
   ]
  },
  {
   "cell_type": "markdown",
   "id": "06737557",
   "metadata": {},
   "source": [
    "### Cleaning"
   ]
  },
  {
   "cell_type": "code",
   "execution_count": null,
   "id": "4c551e4a",
   "metadata": {
    "ExecuteTime": {
     "end_time": "2024-01-14T02:03:53.860260Z",
     "start_time": "2024-01-14T02:03:53.851773Z"
    }
   },
   "outputs": [],
   "source": [
    "# df.dropna(inplace=True)"
   ]
  },
  {
   "cell_type": "code",
   "execution_count": 5,
   "id": "dce7994b",
   "metadata": {
    "ExecuteTime": {
     "end_time": "2024-01-14T02:07:13.438772Z",
     "start_time": "2024-01-14T02:07:13.416653Z"
    }
   },
   "outputs": [
    {
     "data": {
      "text/plain": [
       "57"
      ]
     },
     "execution_count": 5,
     "metadata": {},
     "output_type": "execute_result"
    }
   ],
   "source": [
    "usa_states = ('AL', 'KY', 'OH', 'AK', 'LA', 'OK', 'AZ', 'ME', 'OR', \\\n",
    "              'AR', 'MD', 'PA', 'AS', 'MA', 'PR', 'CA', 'MI', 'RI', \\\n",
    "              'CO', 'MN', 'SC', 'CT', 'MS', 'SD', 'DE', 'MO', 'TN', \\\n",
    "              'DC', 'MT', 'TX', 'FL', 'NE', 'TT', 'GA', 'NV', 'UT', \\\n",
    "              'GU', 'NH', 'VT', 'HI', 'NJ', 'VA', 'ID', 'NM', 'VI', \\\n",
    "              'IL', 'NY', 'WA', 'IN', 'NC', 'WV', 'IA', 'ND', 'WI', \\\n",
    "              'KS', 'MP', 'WY')\n",
    "\n",
    "len(usa_states)"
   ]
  },
  {
   "cell_type": "code",
   "execution_count": 7,
   "id": "40e8c906",
   "metadata": {
    "ExecuteTime": {
     "end_time": "2024-01-14T02:09:06.347341Z",
     "start_time": "2024-01-14T02:09:06.261289Z"
    }
   },
   "outputs": [
    {
     "name": "stdout",
     "output_type": "stream",
     "text": [
      "(33252, 14)\n"
     ]
    }
   ],
   "source": [
    "# filter businesses Open only in USA.\n",
    "usa_filter = (df['state'].isin(usa_states))\n",
    "df = df[df['categories'].notnull()]\n",
    "is_open = (df['is_open'] == 1)\n",
    "df = df[is_open & usa_filter]\n",
    "\n",
    "# make all categories lower case\n",
    "df.loc[:, 'categories'] = df['categories'].str.lower()\n",
    "\n",
    "# get \"restaurants\"\n",
    "df = df[df['categories'].str.contains('restaurants')]\n",
    "\n",
    "print(df.shape)\n"
   ]
  },
  {
   "cell_type": "markdown",
   "id": "30123b10",
   "metadata": {},
   "source": [
    "Postal code"
   ]
  },
  {
   "cell_type": "code",
   "execution_count": 10,
   "id": "a6942299",
   "metadata": {
    "ExecuteTime": {
     "end_time": "2024-01-14T02:12:31.177682Z",
     "start_time": "2024-01-14T02:12:31.155704Z"
    }
   },
   "outputs": [],
   "source": [
    "# assigning placeholder postal codes \n",
    "df.loc[df['postal_code'].apply(lambda x: len(x)<5), 'postal_code'] = 99999"
   ]
  },
  {
   "cell_type": "code",
   "execution_count": 11,
   "id": "36236d39",
   "metadata": {
    "ExecuteTime": {
     "end_time": "2024-01-14T02:12:42.275828Z",
     "start_time": "2024-01-14T02:12:42.260824Z"
    }
   },
   "outputs": [],
   "source": [
    "# manually filling in one missing postal code value\n",
    "# df.loc[df['postal_code'] == '', 'postal_code'] = 33701\n",
    "# Convert to suitable dtype \n",
    "df['postal_code'] = df['postal_code'].astype('int')"
   ]
  },
  {
   "cell_type": "markdown",
   "id": "baef1cbc",
   "metadata": {},
   "source": [
    "Hours"
   ]
  },
  {
   "cell_type": "code",
   "execution_count": 12,
   "id": "61d8de07",
   "metadata": {
    "ExecuteTime": {
     "end_time": "2024-01-14T02:13:06.902759Z",
     "start_time": "2024-01-14T02:13:06.778914Z"
    }
   },
   "outputs": [],
   "source": [
    "default_hours = {'Monday': None,\n",
    "                 'Tuesday': None,\n",
    "                 'Wednesday': None,\n",
    "                 'Thursday': None,\n",
    "                 'Friday': None,\n",
    "                 'Saturday': None,\n",
    "                 'Sunday': None}\n",
    "\n",
    "def impute_hours(row):\n",
    "    if pd.isnull(row):\n",
    "        return default_hours\n",
    "    else:\n",
    "        return row\n",
    "    \n",
    "df.loc[:, 'hours'] = df['hours'].apply(impute_hours)"
   ]
  },
  {
   "cell_type": "code",
   "execution_count": 13,
   "id": "aac0f0f3",
   "metadata": {
    "ExecuteTime": {
     "end_time": "2024-01-14T02:13:08.977317Z",
     "start_time": "2024-01-14T02:13:08.838527Z"
    }
   },
   "outputs": [],
   "source": [
    "days_of_week = ('Monday', 'Tuesday', 'Wednesday', 'Thursday', 'Friday', 'Saturday', 'Sunday')\n",
    "for day in days_of_week:\n",
    "    df.loc[:, f'{day}'] = df['hours'].apply(lambda x: x.get(f'{day}', None))"
   ]
  },
  {
   "cell_type": "code",
   "execution_count": 14,
   "id": "f7de6058",
   "metadata": {
    "ExecuteTime": {
     "end_time": "2024-01-14T02:13:09.809359Z",
     "start_time": "2024-01-14T02:13:09.756556Z"
    }
   },
   "outputs": [
    {
     "data": {
      "text/plain": [
       "3          7:0-20:0\n",
       "5           0:0-0:0\n",
       "9           0:0-0:0\n",
       "11        11:0-14:0\n",
       "12         6:0-22:0\n",
       "            ...    \n",
       "150323      0:0-0:0\n",
       "150325      0:0-0:0\n",
       "150327      0:0-0:0\n",
       "150336    11:0-22:0\n",
       "150339      0:0-0:0\n",
       "Name: Monday, Length: 26661, dtype: object"
      ]
     },
     "execution_count": 14,
     "metadata": {},
     "output_type": "execute_result"
    }
   ],
   "source": [
    "df[df['Monday'].notnull()]['Monday']"
   ]
  },
  {
   "cell_type": "code",
   "execution_count": 15,
   "id": "57f7294e",
   "metadata": {
    "ExecuteTime": {
     "end_time": "2024-01-14T02:13:12.262065Z",
     "start_time": "2024-01-14T02:13:12.186399Z"
    },
    "scrolled": false
   },
   "outputs": [
    {
     "data": {
      "text/plain": [
       "7"
      ]
     },
     "execution_count": 15,
     "metadata": {},
     "output_type": "execute_result"
    }
   ],
   "source": [
    "int(df[df['Monday'].notnull()]['Monday'].apply(lambda x: int(x.split('-')[0].split(':')[0])).mean())"
   ]
  },
  {
   "cell_type": "code",
   "execution_count": 16,
   "id": "fc5e924e",
   "metadata": {
    "ExecuteTime": {
     "end_time": "2024-01-14T02:13:22.084170Z",
     "start_time": "2024-01-14T02:13:21.331995Z"
    }
   },
   "outputs": [],
   "source": [
    "for day in days_of_week:\n",
    "    not_null = df[day].notnull()\n",
    "    mean_opening = df[not_null][day].apply(lambda x: int(x.split('-')[0].split(':')[0])).mean()\n",
    "    mean_closing = df[not_null][day].apply(lambda x: int(x.split('-')[1].split(':')[1])).mean()\n",
    "    df.loc[df[day].isnull(), day] = f'{int(mean_opening)}:00 - {int(mean_closing)}:00'\n"
   ]
  },
  {
   "cell_type": "markdown",
   "id": "93ea10ec",
   "metadata": {},
   "source": [
    "Attributes"
   ]
  },
  {
   "cell_type": "code",
   "execution_count": 17,
   "id": "1067ed8a",
   "metadata": {
    "ExecuteTime": {
     "end_time": "2024-01-14T02:13:24.719399Z",
     "start_time": "2024-01-14T02:13:24.632433Z"
    }
   },
   "outputs": [
    {
     "data": {
      "text/plain": [
       "business_id       0\n",
       "name              0\n",
       "address           0\n",
       "city              0\n",
       "state             0\n",
       "postal_code       0\n",
       "latitude          0\n",
       "longitude         0\n",
       "stars             0\n",
       "review_count      0\n",
       "is_open           0\n",
       "attributes      397\n",
       "categories        0\n",
       "hours             0\n",
       "Monday            0\n",
       "Tuesday           0\n",
       "Wednesday         0\n",
       "Thursday          0\n",
       "Friday            0\n",
       "Saturday          0\n",
       "Sunday            0\n",
       "dtype: int64"
      ]
     },
     "execution_count": 17,
     "metadata": {},
     "output_type": "execute_result"
    }
   ],
   "source": [
    "df.isnull().sum()"
   ]
  },
  {
   "cell_type": "code",
   "execution_count": 18,
   "id": "57a1140f",
   "metadata": {
    "ExecuteTime": {
     "end_time": "2024-01-14T02:13:27.912368Z",
     "start_time": "2024-01-14T02:13:27.796291Z"
    }
   },
   "outputs": [
    {
     "data": {
      "text/plain": [
       "3         None\n",
       "5         None\n",
       "9         None\n",
       "11        None\n",
       "12        None\n",
       "          ... \n",
       "150323    None\n",
       "150325    None\n",
       "150327    None\n",
       "150336    None\n",
       "150339    None\n",
       "Name: attributes, Length: 32855, dtype: object"
      ]
     },
     "execution_count": 18,
     "metadata": {},
     "output_type": "execute_result"
    }
   ],
   "source": [
    "# creating a set of all attributes.\n",
    "df = df[df['attributes'].notnull()]\n",
    "all_attributes = set()\n",
    "df['attributes'].apply(lambda x: all_attributes.update(x.keys()))"
   ]
  },
  {
   "cell_type": "code",
   "execution_count": 19,
   "id": "4b41dfca",
   "metadata": {
    "ExecuteTime": {
     "end_time": "2024-01-14T02:13:31.620778Z",
     "start_time": "2024-01-14T02:13:31.589095Z"
    },
    "scrolled": false
   },
   "outputs": [],
   "source": [
    "# Create separate columns for each attribute.\n",
    "for attribute in all_attributes:\n",
    "    df.loc[:, f'attributes.{attribute}'] = None"
   ]
  },
  {
   "cell_type": "code",
   "execution_count": 20,
   "id": "83a237c7",
   "metadata": {
    "ExecuteTime": {
     "end_time": "2024-01-14T02:13:33.309783Z",
     "start_time": "2024-01-14T02:13:32.450262Z"
    }
   },
   "outputs": [],
   "source": [
    "# map each attribute with its corresponding value from the 'attribute' column.\n",
    "for attribute in all_attributes:\n",
    "    df.loc[:, f'attributes.{attribute}'] = df['attributes'].apply(lambda x: x.get(f'{attribute}', None))"
   ]
  },
  {
   "cell_type": "code",
   "execution_count": 21,
   "id": "e8ff5454",
   "metadata": {
    "ExecuteTime": {
     "end_time": "2024-01-14T02:13:34.527947Z",
     "start_time": "2024-01-14T02:13:34.077504Z"
    }
   },
   "outputs": [],
   "source": [
    "# Defining all binary attributes\n",
    "binary_attributes = ['attributes.GoodForKids', 'attributes.RestaurantsGoodForGroups', 'attributes.BikeParking', 'attributes.RestaurantsReservations',\n",
    "                    'attributes.HasTV', 'attributes.Caters', 'attributes.OutdoorSeating', 'attributes.WheelchairAccessible', 'attributes.RestaurantsDelivery',\n",
    "                    'attributes.RestaurantsTakeOut', 'attributes.BusinessAcceptsCreditCards']\n",
    "\n",
    "# Fill all missing values in binary columns with a False\n",
    "df.loc[:, binary_attributes] = df[binary_attributes].fillna(False)\n",
    "\n",
    "# correcting existing values in the dataframe\n",
    "df.loc[:, binary_attributes] = df[binary_attributes].replace('None', False)\n",
    "df.loc[:, binary_attributes] = df[binary_attributes].replace('True', True)\n",
    "df.loc[:, binary_attributes] = df[binary_attributes].replace('False', False)"
   ]
  },
  {
   "cell_type": "code",
   "execution_count": 22,
   "id": "37878347",
   "metadata": {
    "ExecuteTime": {
     "end_time": "2024-01-14T02:13:36.995801Z",
     "start_time": "2024-01-14T02:13:36.863046Z"
    }
   },
   "outputs": [],
   "source": [
    "# Dropping redundant columns\n",
    "drop_columns = ['attributes.RestaurantsAttire', 'attributes.CoatCheck', 'attributes.ByAppointmentOnly', \n",
    "                'attributes.DogsAllowed', 'attributes.GoodForMeal', 'attributes.DriveThru', 'attributes.HappyHour',\n",
    "                'attributes.BusinessAcceptsBitcoin', 'attributes.RestaurantsTableService', 'attributes.Music', \n",
    "                'attributes.BestNights', 'attributes.Smoking', 'attributes.GoodForDancing', 'attributes.Corkage', \n",
    "                'attributes.BYOB', 'attributes.AgesAllowed', 'attributes.BYOBCorkage', 'attributes.DietaryRestrictions',\n",
    "                'attributes.AcceptsInsurance', 'attributes.Open24Hours', 'attributes.RestaurantsCounterService', \n",
    "                'attributes.HairSpecializesIn', 'hours', 'attributes', 'categories', 'is_open']\n",
    "\n",
    "df.drop(drop_columns, axis=1, inplace=True)"
   ]
  },
  {
   "cell_type": "code",
   "execution_count": 23,
   "id": "f9bfa831",
   "metadata": {
    "ExecuteTime": {
     "end_time": "2024-01-14T02:13:37.947751Z",
     "start_time": "2024-01-14T02:13:37.832734Z"
    }
   },
   "outputs": [
    {
     "data": {
      "text/plain": [
       "business_id                                  0\n",
       "name                                         0\n",
       "address                                      0\n",
       "city                                         0\n",
       "state                                        0\n",
       "postal_code                                  0\n",
       "latitude                                     0\n",
       "longitude                                    0\n",
       "stars                                        0\n",
       "review_count                                 0\n",
       "Monday                                       0\n",
       "Tuesday                                      0\n",
       "Wednesday                                    0\n",
       "Thursday                                     0\n",
       "Friday                                       0\n",
       "Saturday                                     0\n",
       "Sunday                                       0\n",
       "attributes.OutdoorSeating                    0\n",
       "attributes.RestaurantsTakeOut                0\n",
       "attributes.BusinessParking                4138\n",
       "attributes.GoodForKids                       0\n",
       "attributes.WheelchairAccessible              0\n",
       "attributes.RestaurantsPriceRange2         5350\n",
       "attributes.HasTV                             0\n",
       "attributes.BikeParking                       0\n",
       "attributes.Ambience                       6609\n",
       "attributes.WiFi                           8405\n",
       "attributes.RestaurantsDelivery               0\n",
       "attributes.RestaurantsGoodForGroups          0\n",
       "attributes.Caters                            0\n",
       "attributes.BusinessAcceptsCreditCards        0\n",
       "attributes.Alcohol                        8267\n",
       "attributes.NoiseLevel                    11684\n",
       "attributes.RestaurantsReservations           0\n",
       "dtype: int64"
      ]
     },
     "execution_count": 23,
     "metadata": {},
     "output_type": "execute_result"
    }
   ],
   "source": [
    "df.isnull().sum()"
   ]
  },
  {
   "cell_type": "markdown",
   "id": "69d74161",
   "metadata": {},
   "source": [
    "NoiseLevel"
   ]
  },
  {
   "cell_type": "code",
   "execution_count": 24,
   "id": "30466ff2",
   "metadata": {
    "ExecuteTime": {
     "end_time": "2024-01-14T02:13:48.877647Z",
     "start_time": "2024-01-14T02:13:48.864838Z"
    }
   },
   "outputs": [],
   "source": [
    "noise_levels = ['quiet', 'average', 'loud', 'very_loud']"
   ]
  },
  {
   "cell_type": "code",
   "execution_count": 25,
   "id": "3e7805fe",
   "metadata": {
    "ExecuteTime": {
     "end_time": "2024-01-14T02:13:50.499122Z",
     "start_time": "2024-01-14T02:13:50.005900Z"
    }
   },
   "outputs": [],
   "source": [
    "# Define a function to clean the values\n",
    "def clean_category(value):\n",
    "    if value:\n",
    "        value = value.strip(\"'u\")\n",
    "        if value == \"None\":\n",
    "            return None\n",
    "        else:\n",
    "            return value\n",
    "    return value\n",
    "\n",
    "# Apply the cleaning function to the 'column_name' column\n",
    "df['attributes.NoiseLevel'] = df['attributes.NoiseLevel'].apply(clean_category)\n",
    "\n",
    "# Filling in missing values with random noise levels\n",
    "null_mask = df['attributes.NoiseLevel'].isnull()\n",
    "df.loc[null_mask, 'attributes.NoiseLevel'] = df['attributes.NoiseLevel'].apply(lambda x: np.random.choice(noise_levels))\n"
   ]
  },
  {
   "cell_type": "markdown",
   "id": "ed6b3a65",
   "metadata": {},
   "source": [
    "Alcohol"
   ]
  },
  {
   "cell_type": "code",
   "execution_count": 26,
   "id": "722ef3c6",
   "metadata": {
    "ExecuteTime": {
     "end_time": "2024-01-14T02:13:53.631877Z",
     "start_time": "2024-01-14T02:13:53.603231Z"
    }
   },
   "outputs": [],
   "source": [
    "# df.loc[:, 'attributes.Alcohol'] = df['attributes.Alcohol'].fillna('none')\n",
    "df.loc[:, 'attributes.Alcohol'] = df['attributes.Alcohol'].apply(clean_category)\n",
    "# applying \"clean_category\" introduces some null values\n",
    "df.loc[:, 'attributes.Alcohol'] = df['attributes.Alcohol'].fillna('no')"
   ]
  },
  {
   "cell_type": "markdown",
   "id": "75bb3877",
   "metadata": {},
   "source": [
    "RestaurantPriceRange"
   ]
  },
  {
   "cell_type": "code",
   "execution_count": 27,
   "id": "bf1de11d",
   "metadata": {
    "ExecuteTime": {
     "end_time": "2024-01-14T02:13:55.687172Z",
     "start_time": "2024-01-14T02:13:55.659503Z"
    }
   },
   "outputs": [],
   "source": [
    "df.loc[:, 'attributes.RestaurantsPriceRange2'] = df['attributes.RestaurantsPriceRange2'].apply(clean_category)"
   ]
  },
  {
   "cell_type": "code",
   "execution_count": 28,
   "id": "3b3b67ae",
   "metadata": {
    "ExecuteTime": {
     "end_time": "2024-01-14T02:13:57.600954Z",
     "start_time": "2024-01-14T02:13:57.453507Z"
    }
   },
   "outputs": [],
   "source": [
    "# filling in missing values with random ratings.\n",
    "min_value = 1\n",
    "max_value = 4\n",
    "\n",
    "mask = df['attributes.RestaurantsPriceRange2'].isnull()\n",
    "df.loc[mask, 'attributes.RestaurantsPriceRange2'] = df['attributes.RestaurantsPriceRange2'].apply(lambda x: np.random.randint(min_value, max_value+1))\n",
    "\n",
    "# Fix the dtype to 'int'\n",
    "df.loc[:, 'attributes.RestaurantsPriceRange2'] = df['attributes.RestaurantsPriceRange2'].astype('int')"
   ]
  },
  {
   "cell_type": "markdown",
   "id": "b2c02a7c",
   "metadata": {},
   "source": [
    "WiFi"
   ]
  },
  {
   "cell_type": "code",
   "execution_count": 29,
   "id": "aac97572",
   "metadata": {
    "ExecuteTime": {
     "end_time": "2024-01-14T02:14:01.305703Z",
     "start_time": "2024-01-14T02:14:01.279612Z"
    }
   },
   "outputs": [
    {
     "data": {
      "text/plain": [
       "8405"
      ]
     },
     "execution_count": 29,
     "metadata": {},
     "output_type": "execute_result"
    }
   ],
   "source": [
    "df['attributes.WiFi'].isnull().sum()"
   ]
  },
  {
   "cell_type": "code",
   "execution_count": 30,
   "id": "f68398a1",
   "metadata": {
    "ExecuteTime": {
     "end_time": "2024-01-14T02:14:04.022267Z",
     "start_time": "2024-01-14T02:14:03.987551Z"
    }
   },
   "outputs": [],
   "source": [
    "df.loc[:, 'attributes.WiFi'] = df['attributes.WiFi'].apply(clean_category)\n",
    "\n",
    "df.loc[:, 'attributes.WiFi'] = df['attributes.WiFi'].fillna('no')"
   ]
  },
  {
   "cell_type": "code",
   "execution_count": 34,
   "id": "03bbf627",
   "metadata": {
    "ExecuteTime": {
     "end_time": "2024-01-14T02:15:53.779507Z",
     "start_time": "2024-01-14T02:15:53.756594Z"
    }
   },
   "outputs": [],
   "source": [
    "assert not df['attributes.WiFi'].isnull().any(), \"AssertionError: Null values found in the WiFi column.\"\n"
   ]
  },
  {
   "cell_type": "markdown",
   "id": "bc6062c8",
   "metadata": {},
   "source": [
    "Ambience"
   ]
  },
  {
   "cell_type": "code",
   "execution_count": 35,
   "id": "811f6e26",
   "metadata": {
    "ExecuteTime": {
     "end_time": "2024-01-14T02:16:26.111352Z",
     "start_time": "2024-01-14T02:16:26.082345Z"
    }
   },
   "outputs": [],
   "source": [
    "df.loc[:, 'attributes.Ambience'] = df['attributes.Ambience'].apply(clean_category)"
   ]
  },
  {
   "cell_type": "code",
   "execution_count": 36,
   "id": "cf2b1fb4",
   "metadata": {
    "ExecuteTime": {
     "end_time": "2024-01-14T02:16:32.867009Z",
     "start_time": "2024-01-14T02:16:32.852267Z"
    }
   },
   "outputs": [],
   "source": [
    "# Define a default state for this column\n",
    "default_ambience_string = \"{'romantic': False, 'intimate': False, 'classy': False, 'hipster': False, 'divey': False, 'touristy': False, 'trendy': False, 'upscale': False, 'casual': False}\"\n",
    "# Imputing missing values\n",
    "df['attributes.Ambience'].fillna(default_ambience_string, inplace=True)"
   ]
  },
  {
   "cell_type": "code",
   "execution_count": 37,
   "id": "173df8de",
   "metadata": {
    "ExecuteTime": {
     "end_time": "2024-01-14T02:16:36.547017Z",
     "start_time": "2024-01-14T02:16:34.716247Z"
    }
   },
   "outputs": [],
   "source": [
    "def parse_json_string(json_string, default):\n",
    "    json_string = eval(json_string)\n",
    "    for k,v in json_string.items():\n",
    "        if v == True:\n",
    "            return k\n",
    "    return default\n",
    "\n",
    "# Fixing the values in the column\n",
    "df['attributes.Ambience'] = df['attributes.Ambience'].apply(lambda x: parse_json_string(x, default='absent'))\n"
   ]
  },
  {
   "cell_type": "code",
   "execution_count": 41,
   "id": "b68c3e86",
   "metadata": {
    "ExecuteTime": {
     "end_time": "2024-01-14T02:18:55.965661Z",
     "start_time": "2024-01-14T02:18:55.947912Z"
    }
   },
   "outputs": [],
   "source": [
    "assert not df['attributes.Ambience'].isnull().any(), \"AssertionError: Null values found in the Ambience column.\"\n"
   ]
  },
  {
   "cell_type": "markdown",
   "id": "85ef3062",
   "metadata": {},
   "source": [
    "BikeParking"
   ]
  },
  {
   "cell_type": "code",
   "execution_count": 42,
   "id": "860b54dd",
   "metadata": {
    "ExecuteTime": {
     "end_time": "2024-01-14T02:19:04.324069Z",
     "start_time": "2024-01-14T02:19:04.303747Z"
    }
   },
   "outputs": [
    {
     "data": {
      "text/plain": [
       "attributes.BikeParking\n",
       "True     17531\n",
       "False    15324\n",
       "Name: count, dtype: int64"
      ]
     },
     "execution_count": 42,
     "metadata": {},
     "output_type": "execute_result"
    }
   ],
   "source": [
    "df['attributes.BikeParking'].value_counts()"
   ]
  },
  {
   "cell_type": "code",
   "execution_count": 43,
   "id": "3b8e80ce",
   "metadata": {
    "ExecuteTime": {
     "end_time": "2024-01-14T02:19:27.124347Z",
     "start_time": "2024-01-14T02:19:27.104573Z"
    }
   },
   "outputs": [],
   "source": [
    "assert not df['attributes.BikeParking'].isnull().any(), \"AssertionError: Null values found in the BikeParking column.\"\n"
   ]
  },
  {
   "cell_type": "markdown",
   "id": "eeb35ddb",
   "metadata": {},
   "source": [
    "BusinessAcceptsCreditCards"
   ]
  },
  {
   "cell_type": "code",
   "execution_count": 46,
   "id": "4fbf7ed1",
   "metadata": {
    "ExecuteTime": {
     "end_time": "2024-01-14T02:20:04.496156Z",
     "start_time": "2024-01-14T02:20:04.486795Z"
    }
   },
   "outputs": [],
   "source": [
    "assert not df['attributes.BusinessAcceptsCreditCards'].isnull().any(), \"AssertionError: Null values found in the BusinessAcceptsCreditCards column.\"\n"
   ]
  },
  {
   "cell_type": "markdown",
   "id": "70ab2944",
   "metadata": {},
   "source": [
    "OutdoorSeating"
   ]
  },
  {
   "cell_type": "code",
   "execution_count": 49,
   "id": "45c4c7a2",
   "metadata": {
    "ExecuteTime": {
     "end_time": "2024-01-14T02:20:17.664440Z",
     "start_time": "2024-01-14T02:20:17.656239Z"
    }
   },
   "outputs": [],
   "source": [
    "assert not df['attributes.OutdoorSeating'].isnull().any(), \"AssertionError: Null values found in the OutdoorSeating column.\"\n"
   ]
  },
  {
   "cell_type": "markdown",
   "id": "4fefc9f3",
   "metadata": {},
   "source": [
    "BusinessParking"
   ]
  },
  {
   "cell_type": "code",
   "execution_count": 51,
   "id": "be1ae682",
   "metadata": {
    "ExecuteTime": {
     "end_time": "2024-01-14T02:20:44.449301Z",
     "start_time": "2024-01-14T02:20:43.369235Z"
    }
   },
   "outputs": [],
   "source": [
    "df.loc[:, 'attributes.BusinessParking'] = df['attributes.BusinessParking'].apply(clean_category)\n",
    "\n",
    "# No Parking dict map\n",
    "noparking_string = \"{'garage': False, 'street': False, 'validated': False, 'lot': False, 'valet': False}\"\n",
    "\n",
    "# Filling the missing values with 'noparking'\n",
    "df.loc[:, 'attributes.BusinessParking'] = df['attributes.BusinessParking'].fillna(noparking_string)\n",
    "\n",
    "df['attributes.BusinessParking'] = df['attributes.BusinessParking'].apply(lambda x: parse_json_string(x, default='noparking'))\n"
   ]
  },
  {
   "cell_type": "code",
   "execution_count": 52,
   "id": "b86f3860",
   "metadata": {
    "ExecuteTime": {
     "end_time": "2024-01-14T02:20:46.665488Z",
     "start_time": "2024-01-14T02:20:46.652962Z"
    }
   },
   "outputs": [],
   "source": [
    "assert not df['attributes.BusinessParking'].isnull().any(), \"AssertionError: Null values found in the BusinessParking column.\"\n"
   ]
  },
  {
   "cell_type": "markdown",
   "id": "75b3095e",
   "metadata": {},
   "source": [
    "RestaurantsGoodForGroups"
   ]
  },
  {
   "cell_type": "code",
   "execution_count": 54,
   "id": "157bbe7a",
   "metadata": {
    "ExecuteTime": {
     "end_time": "2024-01-14T02:21:07.457250Z",
     "start_time": "2024-01-14T02:21:07.448734Z"
    }
   },
   "outputs": [],
   "source": [
    "assert not df['attributes.RestaurantsGoodForGroups'].isnull().any(), \"AssertionError: Null values found in the RestaurantsGoodForGroups column.\""
   ]
  },
  {
   "cell_type": "markdown",
   "id": "f6c439b7",
   "metadata": {},
   "source": [
    "HasTV"
   ]
  },
  {
   "cell_type": "code",
   "execution_count": 55,
   "id": "b88c5378",
   "metadata": {
    "ExecuteTime": {
     "end_time": "2024-01-14T02:21:23.379841Z",
     "start_time": "2024-01-14T02:21:23.368071Z"
    }
   },
   "outputs": [],
   "source": [
    "assert not df['attributes.HasTV'].isnull().any(), \"AssertionError: Null values found in the HasTV column.\""
   ]
  },
  {
   "cell_type": "markdown",
   "id": "508af186",
   "metadata": {},
   "source": [
    "RestaurantsReservations"
   ]
  },
  {
   "cell_type": "code",
   "execution_count": 59,
   "id": "aa99da75",
   "metadata": {
    "ExecuteTime": {
     "end_time": "2024-01-14T02:22:03.566759Z",
     "start_time": "2024-01-14T02:22:03.549104Z"
    }
   },
   "outputs": [],
   "source": [
    "assert not df['attributes.RestaurantsReservations'].isnull().any(), \"AssertionError: Null values found in the RestaurantsReservations column.\""
   ]
  },
  {
   "cell_type": "code",
   "execution_count": 61,
   "id": "aea4c06c",
   "metadata": {
    "ExecuteTime": {
     "end_time": "2024-01-14T02:23:34.137300Z",
     "start_time": "2024-01-14T02:23:34.040233Z"
    }
   },
   "outputs": [],
   "source": [
    "assert not df.isnull().any().any(), \"AssertionError: Null values found in the final cleaned dataframe.\"\n"
   ]
  },
  {
   "cell_type": "code",
   "execution_count": 62,
   "id": "21223c26",
   "metadata": {
    "ExecuteTime": {
     "end_time": "2024-01-14T02:23:44.404255Z",
     "start_time": "2024-01-14T02:23:43.885137Z"
    }
   },
   "outputs": [],
   "source": [
    "df.to_csv('cleaned_dataset/business.csv', index=False)"
   ]
  }
 ],
 "metadata": {
  "kernelspec": {
   "display_name": "Python 3 (ipykernel)",
   "language": "python",
   "name": "python3"
  },
  "language_info": {
   "codemirror_mode": {
    "name": "ipython",
    "version": 3
   },
   "file_extension": ".py",
   "mimetype": "text/x-python",
   "name": "python",
   "nbconvert_exporter": "python",
   "pygments_lexer": "ipython3",
   "version": "3.9.18"
  }
 },
 "nbformat": 4,
 "nbformat_minor": 5
}
